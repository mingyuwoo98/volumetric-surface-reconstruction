{
 "cells": [
  {
   "cell_type": "markdown",
   "metadata": {},
   "source": [
    "0. Read fundamental matrix (F) from the csv file.\n",
    "\n",
    "1. Center data (choose any (or first one) to be the world center coordinate system)\n",
    "- subtract translation vector to everything\n",
    "- compute inverse of rotation matrix (then apply to every)\n",
    "\n",
    "2. Apply assignment 2"
   ]
  },
  {
   "cell_type": "code",
   "execution_count": null,
   "metadata": {},
   "outputs": [],
   "source": []
  }
 ],
 "metadata": {
  "language_info": {
   "name": "python"
  },
  "orig_nbformat": 4
 },
 "nbformat": 4,
 "nbformat_minor": 2
}
