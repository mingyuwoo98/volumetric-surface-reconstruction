{
 "cells": [
  {
   "cell_type": "code",
   "execution_count": 2,
   "id": "62c070f0",
   "metadata": {},
   "outputs": [],
   "source": [
    "import matplotlib.image as image\n",
    "import matplotlib.pyplot as plt\n",
    "import numpy as np\n",
    "from skimage import feature\n",
    "from skimage.color import rgb2gray\n",
    "\n",
    "from Dino_Images import *"
   ]
  },
  {
   "cell_type": "markdown",
   "id": "72daeed5",
   "metadata": {},
   "source": [
    "## Sequencial Update"
   ]
  },
  {
   "cell_type": "code",
   "execution_count": 8,
   "id": "6e5d2569",
   "metadata": {},
   "outputs": [],
   "source": [
    "# Source files\n",
    "DI = Dino_Images()\n",
    "\n",
    "# Place holder\n",
    "ORDER = np.arange(DI.num_images + 1)\n",
    "ORDER[-1] = 0"
   ]
  },
  {
   "cell_type": "code",
   "execution_count": null,
   "id": "19490c8b",
   "metadata": {},
   "outputs": [],
   "source": [
    "'''\n",
    "This function return triangluated points from a pair of images\n",
    "    Input:\n",
    "        imgF, imgS: The first and second images in rbg\n",
    "        Ki, Ti, Ri: The camera calibration, trancription and rotation matrix\n",
    "        pts_predefined: Points that have to be included in the first images\n",
    "    Output:\n",
    "        tri_pts: List of triangluated points in three dimensional\n",
    "        matched_pts: The matched points pairs on the first/second images\n",
    "'''\n",
    "def pair_triangluate(imgF, imgS, KF, KS, TF, TS, RF, RS, pts_predefined = None):\n",
    "    \n",
    "    if not pts_predefined: # If predefined points included\n",
    "        pass\n",
    "    \n",
    "    return None"
   ]
  },
  {
   "cell_type": "code",
   "execution_count": null,
   "id": "24de9edd",
   "metadata": {},
   "outputs": [],
   "source": [
    "'''\n",
    "This function return triangluated points from a sequence of images\n",
    "    Input:\n",
    "        images: The images abstract object descripted in the image.py file\n",
    "        order: A order for transpassing the images\n",
    "    Output:\n",
    "        tri_pts: List of triangluated points in three dimensional\n",
    "        matched_dicts: A dictionary which includes the matching pairs between pairs of images\n",
    "'''\n",
    "def sequencial_update(images, order = None):\n",
    "    \n",
    "    # Init\n",
    "    tri_pts, matched_dicts = set(),{}\n",
    "    imgs, K_Matrix, T_Matrix, R_Matrix = images.image_list, images.K_Matrix, images.T_Matrix, images.R_Matrix\n",
    "    \n",
    "    if not order: # If image order is not given then create one\n",
    "        order = np.arange(DI.num_images + 1)\n",
    "        order[-1] = 0\n",
    "        \n",
    "    # Transpassing the list in \"order\" by pair windows\n",
    "    for i in range(1, len(order)):\n",
    "        \n",
    "        o, op = order[i], order[i-1]\n",
    "        \n",
    "        # Select the previous points\n",
    "        pre_second_pts = matched_dicts.get(f\"{order[i-2]}_{o}\") if i > 1 else None\n",
    "        \n",
    "        # Perform pair triangluation\n",
    "        curr_tri_pts, curr_matched_pts = \\\n",
    "        pair_triangluate(imgs[op], imgs[o], K_Matrix[op], K_Matrix[o], T_Matrix[op], T_Matrix[o], \n",
    "                         R_Matrix[op], R_Matrx[o], pts_predefined = pre_second_pts)\n",
    "        \n",
    "        # Update the list / dicts\n",
    "        tri_pts.update(set(curr_tri_pts))\n",
    "        matched_dicts.update({f\"{op}_{o}\": curr_matched_pts})\n",
    "        \n",
    "    return None"
   ]
  }
 ],
 "metadata": {
  "kernelspec": {
   "display_name": "Python 3",
   "language": "python",
   "name": "python3"
  },
  "language_info": {
   "codemirror_mode": {
    "name": "ipython",
    "version": 3
   },
   "file_extension": ".py",
   "mimetype": "text/x-python",
   "name": "python",
   "nbconvert_exporter": "python",
   "pygments_lexer": "ipython3",
   "version": "3.8.8"
  }
 },
 "nbformat": 4,
 "nbformat_minor": 5
}
