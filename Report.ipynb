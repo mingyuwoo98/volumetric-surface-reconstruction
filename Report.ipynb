{
 "cells": [
  {
   "cell_type": "markdown",
   "id": "8f97de1d",
   "metadata": {},
   "source": [
    "# Volumetric Surface Reconstruction."
   ]
  },
  {
   "cell_type": "markdown",
   "id": "759ea341",
   "metadata": {},
   "source": [
    "### Data Loader (Dino_images.py)"
   ]
  },
  {
   "cell_type": "markdown",
   "id": "890c32b2",
   "metadata": {},
   "source": [
    "### Calculating the Fundamental Matrix F"
   ]
  },
  {
   "cell_type": "markdown",
   "id": "cd359e33",
   "metadata": {},
   "source": [
    "Given two non-calibrated cameras, define camera center as $C, C'$ respectively, homogenous image points $x, x'$ respectively, and corresponding homogenous 3D point as $X$.\n",
    "\n",
    "The goal is to find a transformation F that maps an image point in the first camera to an epipolar line in the second camera. In other words,\n",
    "\n",
    "$$l' = Fx$$\n",
    "\n",
    "To obtain the epipole of the right image, project camera center $C$ in the first camera to the second camera's image plane,\n",
    "\n",
    "$$e' = P'C$$\n",
    "\n",
    "...\n",
    "\n",
    "Finally, the fundamental matrix is defined as:\n",
    "\n",
    "$$F = [e']_{\\times}P'P^+$$\n"
   ]
  },
  {
   "cell_type": "markdown",
   "id": "4e4ec310",
   "metadata": {},
   "source": [
    "### Finding Matching Pairs (openCV)"
   ]
  },
  {
   "cell_type": "markdown",
   "id": "ac92cac8",
   "metadata": {},
   "source": [
    "### Pair Matching"
   ]
  },
  {
   "cell_type": "markdown",
   "id": "9455c409",
   "metadata": {},
   "source": [
    "For a given dots on the first images denoted by $x_i$, is possible to find a corrospounding epipolar line $l_i$ on the second image given the fundimental matrix $F$. The navie approach is to perform pattern matching using colour intensity along the epipolar line. However, it is still difficult challenging to find the true matching pairs on the second images due to the following reasons:\n",
    "* Error in fundimental matrix estimation\n",
    "* Error in epipolar line $l_i$ estimation\n",
    "\n",
    "Hence, it is very important to come up with a robust way of finding the matched point.\n",
    "\n",
    "#### Convolutional Absolute Intensity Difference Method\n",
    "\n",
    "First of all, we try ... **MIKU FILL THIS PART**\n",
    "\n",
    "#### Normalized Linear Kernal Correlation Coefficient Method\n",
    "\n",
    "Secondly, we tries to implement the correlation coefficient method described in the [https://docs.opencv.org/4.x/df/dfb/group__imgproc__object.html#gga3a7850640f1fe1f58fe91a2d7583695daf9c3ab9296f597ea71f056399a5831da](CCOFE_NORM).  Assume that $T(x, y), I(x, y)$ gives the pixel intensity on the template / matching image with position $(x, y)$. Similarity score $R(x, y)$ is given by the normalization function $R(x, y) = \\frac{\\sum_{x', y'}(T(x', y') \\cdot I'(x+x', y+y'))}{\\sqrt{\\sum_{x', y'}T(x', y')^2 \\cdot I'(x+x', y+y')^2}}$ by convolutionaly going through the image. Here $T'(x', y') = M(x', y') \\cdot (T(x', y') - \\frac{\\sum_{x'', y''}(T(x'', y'') \\cdot M(x'', y''))}{\\sum_{x'', y''}T(x'', y'')})$, $I(x' + x, y' + y) = M(x', y') \\cdot (I(x' + x, y' + y) - \\frac{\\sum_{x'', y''}(I(x'' + x, y'' + y) \\cdot M(x'', y''))}{\\sum_{x'', y''}T(x'', y'')})$"
   ]
  },
  {
   "cell_type": "markdown",
   "id": "9cff715d",
   "metadata": {},
   "source": [
    "We first calculate the score matrix, then the goal is to optimize the score along and near the epipolar line $y = l(x)$. We implemented a pair wise optimization function using the correlation coefficient score matrix $\\mathbb{S}$ and horizontal shift $f$ from the epipolar line. We are trying to optimize the following by finding point $x, y$:\n",
    "$$\n",
    "L = \\mathbb{S}_{x + f, l(x) + f} \\cdot (1 - |f| \\cdot epsilon)\n",
    "$$"
   ]
  },
  {
   "cell_type": "markdown",
   "id": "d7a912b2",
   "metadata": {},
   "source": [
    "### Triangulation"
   ]
  },
  {
   "cell_type": "markdown",
   "id": "85cf290d",
   "metadata": {},
   "source": [
    "Given a pair of homogenous matching points $x,x'$ that corresponds to an unknown homogenous 3D point $\\mathbf{X}$ and projection matrices $P,P'$, triangulation can be done in order to determine the 3D point $\\mathbf{X}$.\n",
    "\n",
    "Define\n",
    "\n",
    "$$\n",
    "\\begin{equation*}\n",
    "P = \n",
    "\\begin{bmatrix}\n",
    "r_{11} & r_{12} & r_{13} & t_{1} \\\\\n",
    "r_{21} & r_{22} & r_{23} & t_{2} \\\\\n",
    "r_{31} & r_{32} & r_{33} & t_{3}\n",
    "\\end{bmatrix}\n",
    "\\end{equation*}\n",
    "$$\n",
    "\n",
    "$$\n",
    "\\begin{equation*}\n",
    "P' = \n",
    "\\begin{bmatrix}\n",
    "r_{11}' & r_{12}' & r_{13}' & t_{1}' \\\\\n",
    "r_{21}' & r_{22}' & r_{23}' & t_{2}' \\\\\n",
    "r_{31}' & r_{32}' & r_{33}' & t_{3}'\n",
    "\\end{bmatrix}\n",
    "\\end{equation*}\n",
    "$$\n",
    "\n",
    "and \n",
    "\n",
    "$$\n",
    "\\mathbf{X} =\n",
    "\\begin{bmatrix}\n",
    "X \\\\\n",
    "Y \\\\\n",
    "Z \\\\\n",
    "1 \n",
    "\\end{bmatrix}$$\n",
    "\n",
    "and\n",
    "\n",
    "$$\n",
    "x =\n",
    "\\begin{bmatrix}\n",
    "u \\\\\n",
    "v \\\\\n",
    "1 \n",
    "\\end{bmatrix}$$\n",
    "\n",
    "$$\n",
    "x' =\n",
    "\\begin{bmatrix}\n",
    "u' \\\\\n",
    "v' \\\\\n",
    "1 \n",
    "\\end{bmatrix}$$"
   ]
  },
  {
   "cell_type": "markdown",
   "id": "ff67c761",
   "metadata": {},
   "source": [
    "Then by definition,\n",
    "\n",
    "$$x = PX$$ $$x' = P'X$$\n",
    "\n",
    "Thus, taking the cross product results in:\n",
    "\n",
    "$$x \\times PX = 0$$ $$x' \\times PX' = 0$$\n",
    "\n",
    "Rewriting in terms of the projection matrices' rows yields:\n",
    "\n",
    "$$\n",
    "\\begin{array}{cc}\n",
    "x(\\mathbf{p_3}^T \\mathbf{X})-(\\mathbf{p_1}^T \\mathbf{X}) \\\\\n",
    "y(\\mathbf{p_3}^T \\mathbf{X})-(\\mathbf{p_2}^T \\mathbf{X}) \\\\\n",
    "x(\\mathbf{p_2}^T \\mathbf{X})-y(\\mathbf{p_1}^T \\mathbf{X})\n",
    "\\end{array}\n",
    "$$\n",
    "\n",
    "Taking the two linearly independent rows and using the two image points yields the following system of linear equations:\n",
    "\n",
    "$$\n",
    "A = \\left[ \\begin{array}{cc}\n",
    "x(\\mathbf{p_3}^T)-(\\mathbf{p_1}^T) \\\\\n",
    "y(\\mathbf{p_3}^T)-(\\mathbf{p_2}^T) \\\\\n",
    "x'(\\mathbf{p_3}^T)-(\\mathbf{p_1}^T) \\\\\n",
    "y'(\\mathbf{p_3}^T)-(\\mathbf{p_2}^T)\n",
    "\\end{array}\n",
    "\\right]\n",
    "$$\n",
    "\n",
    "where we are solving for $A\\mathbf{X} = 0$.\n",
    "\n",
    "Using the homogenous route, the vector corresponding to the smallest singular value of $A$ is the solution for $\\mathbf{X}$"
   ]
  },
  {
   "cell_type": "markdown",
   "id": "51a64e77",
   "metadata": {},
   "source": [
    "### Sequential Update"
   ]
  },
  {
   "cell_type": "markdown",
   "id": "591edf36",
   "metadata": {},
   "source": [
    "### References"
   ]
  },
  {
   "cell_type": "markdown",
   "id": "698a7f46",
   "metadata": {},
   "source": [
    "- Ghosh, Sourish. “Calculating the Fundamental Matrix from Camera Matrices.” Sourish Ghosh, https://sourishghosh.com/2016/fundamental-matrix-from-camera-matrices/.\n",
    "- Wu, Kai. Triangulation, https://imkaywu.github.io/blog/2017/07/triangulation/. "
   ]
  },
  {
   "cell_type": "code",
   "execution_count": null,
   "id": "8b73108f",
   "metadata": {},
   "outputs": [],
   "source": []
  },
  {
   "cell_type": "code",
   "execution_count": null,
   "id": "bac5e81e",
   "metadata": {},
   "outputs": [],
   "source": []
  },
  {
   "cell_type": "code",
   "execution_count": null,
   "id": "2191ed17",
   "metadata": {},
   "outputs": [],
   "source": []
  },
  {
   "cell_type": "code",
   "execution_count": null,
   "id": "bb4d32d6",
   "metadata": {},
   "outputs": [],
   "source": []
  },
  {
   "cell_type": "code",
   "execution_count": null,
   "id": "38fa92cd",
   "metadata": {},
   "outputs": [],
   "source": []
  },
  {
   "cell_type": "code",
   "execution_count": null,
   "id": "574ea842",
   "metadata": {},
   "outputs": [],
   "source": []
  }
 ],
 "metadata": {
  "kernelspec": {
   "display_name": "Python 3",
   "language": "python",
   "name": "python3"
  },
  "language_info": {
   "codemirror_mode": {
    "name": "ipython",
    "version": 3
   },
   "file_extension": ".py",
   "mimetype": "text/x-python",
   "name": "python",
   "nbconvert_exporter": "python",
   "pygments_lexer": "ipython3",
   "version": "3.8.8"
  }
 },
 "nbformat": 4,
 "nbformat_minor": 5
}
