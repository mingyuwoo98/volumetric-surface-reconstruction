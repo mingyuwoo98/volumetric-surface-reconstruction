{
 "cells": [
  {
   "cell_type": "markdown",
   "metadata": {},
   "source": [
    "# Triangulation for sequence of images"
   ]
  },
  {
   "cell_type": "markdown",
   "metadata": {},
   "source": [
    "### Libraries"
   ]
  },
  {
   "cell_type": "code",
   "execution_count": 1,
   "metadata": {},
   "outputs": [],
   "source": [
    "from Dino_Images import *\n",
    "from triangluation import *"
   ]
  },
  {
   "cell_type": "code",
   "execution_count": 2,
   "metadata": {},
   "outputs": [],
   "source": [
    "DI = Dino_Images(input_dic_path=\"dino\", par_path = \"/dino_par.txt\")\n",
    "\n",
    "dino_params = DI.params\n",
    "image_list_dino = DI.image_list\n",
    "order_list_dino = np.arange(len(dino_params)).tolist()\n",
    "\n",
    "image_list = image_list_dino\n",
    "order_list = order_list_dino"
   ]
  },
  {
   "cell_type": "code",
   "execution_count": 9,
   "metadata": {},
   "outputs": [],
   "source": [
    "# image_list = image_list_dino[144:146]\n",
    "# order_list = order_list_dino[144:146]\n",
    "\n",
    "# X = sample_on_dino(image_list[0], 100)\n",
    "# plt.imshow(image_list[0])\n",
    "# plt.scatter(X[:,0], X[:,1])\n",
    "\n",
    "# C1, C2 = dino_params.get(1), dino_params.get(2)\n",
    "# F = get_F_matrix_sourishghosh(*C1, *C2)\n",
    "\n",
    "# h,w,c = np.shape(image_list[0])\n",
    "# u = np.linspace(0, w, num = 5*w)\n",
    "\n",
    "# u2_list, v2_list, l2_list = get_right_epipolar_line(image_list[1], X, F)\n",
    "\n",
    "# start, start_line = point_and_line(0, X, w, h, u, l2_list)\n",
    "# end, end_line = point_and_line(-1, X, w, h, u, l2_list)\n",
    "\n",
    "# u2, v2 = np.arange(1, 10), np.arange(11, 20)\n",
    "# np.vstack([u2, v2]).T\n",
    "\n",
    "# matched_start, score_start = \\\n",
    "# get_right_image_point_cv(image_list[0], image_list[1], \n",
    "# start, start_line, shift = (-20, 20), bbr = 15, epsilon = 0.1, show_img = False)\n",
    "\n",
    "# x2, u1_list, v1_list, u2_list, v2_list \\\n",
    "# = get_match_points_linspace(image_list[0], image_list[1], \\\n",
    "# X, F, bounding_box_size = 15, epsilon = 0.1, threshold = 0.8, delta = 0.00000000001)\n",
    "\n",
    "# plt.imshow(image_list[1])\n",
    "# plt.scatter(x2[:,0], x2[:,1])"
   ]
  },
  {
   "cell_type": "code",
   "execution_count": 3,
   "metadata": {},
   "outputs": [
    {
     "name": "stdout",
     "output_type": "stream",
     "text": [
      "WARNING: no matches are good enough on img 48 with 49..........................] 48/362\n",
      "WARNING: no matches are good enough on img 96 with 97..........................] 96/362\n",
      "WARNING: no matches are good enough on img 144 with 145........................] 144/362\n",
      "WARNING: no matches are good enough on img 241 with 242###.....................] 241/362\n",
      "WARNING: no matches are good enough on img 264 with 265#######.................] 264/362\n",
      "WARNING: no matches are good enough on img 285 with 286###########.............] 285/362\n",
      "WARNING: no matches are good enough on img 300 with 301#############...........] 300/362\n",
      "WARNING: no matches are good enough on img 306 with 307##############..........] 306/362\n",
      "WARNING: no matches are good enough on img 309 with 310###############.........] 309/362\n",
      "WARNING: no matches are good enough on img 314 with 315################........] 314/362\n",
      "WARNING: no matches are good enough on img 322 with 323#################.......] 322/362\n",
      "Comparing Images: [############################################################] 362/362\n",
      "Done\n",
      "CPU times: user 2h 58min 27s, sys: 5min 26s, total: 3h 3min 53s\n",
      "Wall time: 3h 2min 54s\n"
     ]
    }
   ],
   "source": [
    "%%time\n",
    "\n",
    "num_feature_points = 500\n",
    "\n",
    "X_list, C_list, I_list = \\\n",
    "sequential_triangulation(camera_matrix = dino_params, image_list = image_list, \n",
    "                         camera_order=None, bounding_box_radius = 15, num_feature_points=num_feature_points,\n",
    "                         intensity_threshold = 0.4, penalty_epsilon=0.1, match_threshold=0.9)"
   ]
  },
  {
   "cell_type": "code",
   "execution_count": 11,
   "metadata": {},
   "outputs": [
    {
     "ename": "NameError",
     "evalue": "name 'X_list' is not defined",
     "output_type": "error",
     "traceback": [
      "\u001b[0;31m---------------------------------------------------------------------------\u001b[0m",
      "\u001b[0;31mNameError\u001b[0m                                 Traceback (most recent call last)",
      "\u001b[0;32m/var/folders/f7/7wm8ypsx1_zcy_df6_f5nrl40000gn/T/ipykernel_58781/1369074189.py\u001b[0m in \u001b[0;36m<module>\u001b[0;34m\u001b[0m\n\u001b[1;32m      1\u001b[0m \u001b[0mget_ipython\u001b[0m\u001b[0;34m(\u001b[0m\u001b[0;34m)\u001b[0m\u001b[0;34m.\u001b[0m\u001b[0mrun_line_magic\u001b[0m\u001b[0;34m(\u001b[0m\u001b[0;34m'matplotlib'\u001b[0m\u001b[0;34m,\u001b[0m \u001b[0;34m'notebook'\u001b[0m\u001b[0;34m)\u001b[0m\u001b[0;34m\u001b[0m\u001b[0;34m\u001b[0m\u001b[0m\n\u001b[0;32m----> 2\u001b[0;31m \u001b[0mplot_all_triangulated\u001b[0m\u001b[0;34m(\u001b[0m\u001b[0mX_list\u001b[0m\u001b[0;34m,\u001b[0m \u001b[0mC_list\u001b[0m \u001b[0;34m=\u001b[0m \u001b[0;32mNone\u001b[0m\u001b[0;34m,\u001b[0m \u001b[0mI_list\u001b[0m \u001b[0;34m=\u001b[0m \u001b[0;32mNone\u001b[0m\u001b[0;34m,\u001b[0m \u001b[0mscale\u001b[0m \u001b[0;34m=\u001b[0m \u001b[0;36m0.05\u001b[0m\u001b[0;34m)\u001b[0m\u001b[0;34m\u001b[0m\u001b[0;34m\u001b[0m\u001b[0m\n\u001b[0m",
      "\u001b[0;31mNameError\u001b[0m: name 'X_list' is not defined"
     ]
    }
   ],
   "source": [
    "%matplotlib notebook\n",
    "plot_all_triangulated(X_list, C_list = None, I_list = None, scale = 0.05)"
   ]
  },
  {
   "cell_type": "code",
   "execution_count": null,
   "metadata": {},
   "outputs": [],
   "source": []
  },
  {
   "cell_type": "code",
   "execution_count": null,
   "metadata": {},
   "outputs": [],
   "source": [
    "# %matplotlib inline\n",
    "\n",
    "# plt.imshow(image_list[144])"
   ]
  },
  {
   "cell_type": "code",
   "execution_count": null,
   "metadata": {},
   "outputs": [],
   "source": [
    "# plt.imshow(image_list[145])"
   ]
  },
  {
   "cell_type": "code",
   "execution_count": null,
   "metadata": {},
   "outputs": [],
   "source": []
  }
 ],
 "metadata": {
  "interpreter": {
   "hash": "0f63f26de748f105537615ec22abe0c9c589e2c8df9dc8e7c73b924db79e12be"
  },
  "kernelspec": {
   "display_name": "Python 3",
   "language": "python",
   "name": "python3"
  },
  "language_info": {
   "codemirror_mode": {
    "name": "ipython",
    "version": 3
   },
   "file_extension": ".py",
   "mimetype": "text/x-python",
   "name": "python",
   "nbconvert_exporter": "python",
   "pygments_lexer": "ipython3",
   "version": "3.8.8"
  }
 },
 "nbformat": 4,
 "nbformat_minor": 2
}
